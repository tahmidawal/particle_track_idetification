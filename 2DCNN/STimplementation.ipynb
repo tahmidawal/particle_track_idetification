{
 "cells": [
  {
   "cell_type": "code",
   "execution_count": 3,
   "id": "attractive-denial",
   "metadata": {
    "tags": []
   },
   "outputs": [
    {
     "name": "stderr",
     "output_type": "stream",
     "text": [
      "2022-04-17 21:22:47.135259: I tensorflow/stream_executor/platform/default/dso_loader.cc:49] Successfully opened dynamic library libcudart.so.10.1\n"
     ]
    }
   ],
   "source": [
    "import matplotlib.pyplot as plt\n",
    "import matplotlib as plt1\n",
    "import numpy as np\n",
    "import os\n",
    "import tensorflow as tf\n",
    "from datetime import datetime\n",
    "\n",
    "from sklearn import preprocessing\n",
    "from sklearn.preprocessing import OneHotEncoder\n",
    "from tensorflow.keras.preprocessing import image_dataset_from_directory\n",
    "from sklearn.metrics import confusion_matrix\n",
    "from sklearn.preprocessing import PowerTransformer"
   ]
  },
  {
   "cell_type": "code",
   "execution_count": 4,
   "id": "perfect-madness",
   "metadata": {
    "tags": []
   },
   "outputs": [],
   "source": [
    "def plot_confusion_matrix_augmented(y_true,\n",
    "                          y_pred,\n",
    "                          classes,\n",
    "                          title=None,\n",
    "                          cmap=plt.cm.Blues):\n",
    "    \"\"\"This function prints and plots the confusion matrix.\n",
    "    \n",
    "    Adapted from:\n",
    "    https://scikit-learn.org/stable/auto_examples/model_selection/plot_confusion_matrix.html\n",
    "    \n",
    "    Arguments:\n",
    "        y_true: Real class labels.\n",
    "        y_pred: Predicted class labels.\n",
    "        classes: List of class names.\n",
    "        title: Title for the plot.\n",
    "        cmap: Colormap to be used.\n",
    "    \n",
    "    Returns:\n",
    "        None.\n",
    "    \"\"\"\n",
    "    if not title:\n",
    "        title = 'Confusion matrix'\n",
    "\n",
    "    # Compute confusion matrix\n",
    "    cm = confusion_matrix(y_true, y_pred)\n",
    "\n",
    "    fig, ax = plt.subplots(figsize=(4, 4), dpi=100)\n",
    "    im = ax.imshow(cm, interpolation='nearest', cmap=cmap)\n",
    "    ax.figure.colorbar(im, ax=ax)\n",
    "    # We want to show all ticks...\n",
    "    ax.set(xticks=np.arange(cm.shape[1]),\n",
    "           yticks=np.arange(cm.shape[0]),\n",
    "           # ... and label them with the respective list entries\n",
    "           xticklabels=classes, yticklabels=classes,\n",
    "           title=title,\n",
    "           ylabel='True label',\n",
    "           xlabel='Predicted label')\n",
    "\n",
    "    # Rotate the tick labels and set their alignment.\n",
    "    plt.setp(ax.get_xticklabels(), rotation=45, ha='right', rotation_mode='anchor')\n",
    "\n",
    "    # Loop over data dimensions and create text annotations.\n",
    "    thresh = cm.max() / 2.\n",
    "    for i in range(cm.shape[0]):\n",
    "        for j in range(cm.shape[1]):\n",
    "            ax.text(j, i, format(cm[i, j], 'd'),\n",
    "                    ha='center', va='center',\n",
    "                    color='white' if cm[i, j] > thresh else 'black')\n",
    "    fig.tight_layout()\n",
    "    plt.show()"
   ]
  },
  {
   "cell_type": "code",
   "execution_count": 4,
   "id": "governmental-search",
   "metadata": {},
   "outputs": [],
   "source": [
    "def plot_confusion_matrix_normalized(y_true,\n",
    "                          y_pred,\n",
    "                          classes,\n",
    "                          confusion,\n",
    "                          title=None,\n",
    "                          cmap=plt.cm.Blues):\n",
    "    \"\"\"This function prints and plots the confusion matrix.\n",
    "    \n",
    "    Adapted from:\n",
    "    https://scikit-learn.org/stable/auto_examples/model_selection/plot_confusion_matrix.html\n",
    "    \n",
    "    Arguments:\n",
    "        y_true: Real class labels.\n",
    "        y_pred: Predicted class labels.\n",
    "        classes: List of class names.\n",
    "        title: Title for the plot.\n",
    "        cmap: Colormap to be used.\n",
    "    \n",
    "    Returns:\n",
    "        None.\n",
    "    \"\"\"\n",
    "    if not title:\n",
    "        title = 'Confusion matrix'\n",
    "    \n",
    "    \n",
    "    cm = confusion\n",
    "    \n",
    "\n",
    "    fig, ax = plt.subplots(figsize=(4, 4), dpi=100)\n",
    "    #\n",
    "    im = ax.imshow( cm.astype(float) , interpolation='nearest', cmap=cmap)\n",
    "    ax.figure.colorbar(im, ax=ax)\n",
    "    # We want to show all ticks...\n",
    "    ax.set(xticks=np.arange(cm.shape[1]),\n",
    "           yticks=np.arange(cm.shape[0]),\n",
    "           # ... and label them with the respective list entries\n",
    "           xticklabels=classes, yticklabels=classes,\n",
    "           title=title,\n",
    "           ylabel='True label',\n",
    "           xlabel='Predicted label')\n",
    "\n",
    "    # Rotate the tick labels and set their alignment.\n",
    "    plt.setp(ax.get_xticklabels(), rotation=45, ha='right', rotation_mode='anchor')\n",
    "\n",
    "    # Loop over data dimensions and create text annotations.\n",
    "    thresh = cm.max() / 2.\n",
    "    for i in range(cm.shape[0]):\n",
    "        for j in range(cm.shape[1]):\n",
    "            ax.text(j, i, format(cm[i, j], '.2f'),\n",
    "                    ha='center', va='center',\n",
    "                    color='white' if cm[i, j] > thresh else 'black')\n",
    "    fig.tight_layout()\n",
    "    plt.show()"
   ]
  },
  {
   "cell_type": "markdown",
   "id": "lightweight-headline",
   "metadata": {},
   "source": [
    "### Load the Data:"
   ]
  },
  {
   "cell_type": "markdown",
   "id": "ca267083-17b0-44f9-a834-6294826ba5dd",
   "metadata": {},
   "source": [
    "Here, it is important to load the correct datasets. If you want to input power_transformed data to the CNN, make sure to comment out the load of the log_scaled data. Loading the targets will be the same from LgScale and PwrTrsrm, but make sure to update the load of the targets if you use a larger dataset at the beginning of the entire pipeline:"
   ]
  },
  {
   "cell_type": "code",
   "execution_count": 5,
   "id": "increasing-intermediate",
   "metadata": {},
   "outputs": [],
   "source": [
    "#for power transformed data:\n",
    "#train_input = np.load('./DataPreproccessingFiles/train_input_4-21-morning_power_transform-min-max.npy', allow_pickle=True)\n",
    "#val_input = np.load('./DataPreproccessingFiles/val_input_4-21-morning_power_transform-min-max.npy', allow_pickle=True)\n",
    "\n",
    "#for log scaled data:\n",
    "train_input = np.load('./smallDataPreprocessingFiles/2022-03-22 19:19:00.099416train_input_log_scale.npy', allow_pickle=True)\n",
    "#train_input = np.load('./DataPreproccessingFiles/train_input_log-scaled-min-max.npy')\n",
    "val_input = np.load('./smallDataPreprocessingFiles/2022-03-22 19:19:00.099416val_input_log_scale.npy', allow_pickle=True)\n",
    "#val_input = np.load('./DataPreproccessingFiles/val_input_log-scaled-min-max.npy')\n",
    "\n",
    "train_target = np.load('./smallDataPreprocessingFiles/train_targets.npy', allow_pickle = True)\n",
    "#train_target = np.load('./DataPreproccessingFiles/train_targets.npy', allow_pickle=True)\n",
    "val_target = np.load('./smallDataPreprocessingFiles/val_targets.npy', allow_pickle = True)\n",
    "#val_target = np.load('./DataPreproccessingFiles/val_targets.npy', allow_pickle=True)"
   ]
  },
  {
   "cell_type": "markdown",
   "id": "short-dictionary",
   "metadata": {},
   "source": [
    "### View Data:"
   ]
  },
  {
   "cell_type": "markdown",
   "id": "f56e6f62-1333-4258-8826-c6dbb8ff31c2",
   "metadata": {},
   "source": [
    "The labels you will see at the top of each image are the same mapping from before. \n",
    "0 stands for protons, 1 stands for deuterons, 2 stands for tritons, 3 stands for he3, 4 stands for he4. \n",
    "Expect to see images that look like the images from the presentation on Github. "
   ]
  },
  {
   "cell_type": "code",
   "execution_count": 6,
   "id": "signed-sheet",
   "metadata": {
    "tags": []
   },
   "outputs": [
    {
     "data": {
      "image/png": "[encoded data removed]",
      "text/plain": [
       "<Figure size 720x720 with 2 Axes>"
      ]
     },
     "metadata": {
      "needs_background": "light"
     },
     "output_type": "display_data"
    },
    {
     "data": {
      "image/png": "[encoded data removed]",
      "text/plain": [
       "<Figure size 720x720 with 2 Axes>"
      ]
     },
     "metadata": {
      "needs_background": "light"
     },
     "output_type": "display_data"
    },
    {
     "data": {
      "image/png": "[encoded data removed]",
      "text/plain": [
       "<Figure size 720x720 with 2 Axes>"
      ]
     },
     "metadata": {
      "needs_background": "light"
     },
     "output_type": "display_data"
    },
    {
     "data": {
      "image/png": "[encoded data removed]",
      "text/plain": [
       "<Figure size 720x720 with 2 Axes>"
      ]
     },
     "metadata": {
      "needs_background": "light"
     },
     "output_type": "display_data"
    },
    {
     "data": {
      "image/png": "[encoded data removed]",
      "text/plain": [
       "<Figure size 720x720 with 2 Axes>"
      ]
     },
     "metadata": {
      "needs_background": "light"
     },
     "output_type": "display_data"
    },
    {
     "data": {
      "image/png": "[encoded data removed]",
      "text/plain": [
       "<Figure size 720x720 with 2 Axes>"
      ]
     },
     "metadata": {
      "needs_background": "light"
     },
     "output_type": "display_data"
    },
    {
     "data": {
      "image/png": "[encoded data removed]",
      "text/plain": [
       "<Figure size 720x720 with 2 Axes>"
      ]
     },
     "metadata": {
      "needs_background": "light"
     },
     "output_type": "display_data"
    },
    {
     "data": {
      "image/png": "[encoded data removed]",
      "text/plain": [
       "<Figure size 720x720 with 2 Axes>"
      ]
     },
     "metadata": {
      "needs_background": "light"
     },
     "output_type": "display_data"
    },
    {
     "data": {
      "image/png": "[encoded data removed]",
      "text/plain": [
       "<Figure size 720x720 with 2 Axes>"
      ]
     },
     "metadata": {
      "needs_background": "light"
     },
     "output_type": "display_data"
    },
    {
     "data": {
      "image/png": "[encoded data removed]",
      "text/plain": [
       "<Figure size 720x720 with 2 Axes>"
      ]
     },
     "metadata": {
      "needs_background": "light"
     },
     "output_type": "display_data"
    },
    {
     "name": "stdout",
     "output_type": "stream",
     "text": [
      "[[-1. -1. -1. ... -1. -1. -1.]\n",
      " [-1. -1. -1. ... -1. -1. -1.]\n",
      " [-1. -1. -1. ... -1. -1. -1.]\n",
      " ...\n",
      " [-1. -1. -1. ... -1. -1. -1.]\n",
      " [-1. -1. -1. ... -1. -1. -1.]\n",
      " [-1. -1. -1. ... -1. -1. -1.]]\n"
     ]
    }
   ],
   "source": [
    "for i in range(10):\n",
    "    title = train_target[i]\n",
    "    plt.figure(figsize = (10,10))\n",
    "    plt.title(\"Label {}\".format(title))\n",
    "    plt.imshow(train_input[i], cmap='Blues')\n",
    "    plt.colorbar()\n",
    "    plt.show()\n",
    "print(train_input[0])"
   ]
  },
  {
   "cell_type": "markdown",
   "id": "running-invention",
   "metadata": {},
   "source": [
    "### Expand Dimensions: "
   ]
  },
  {
   "cell_type": "markdown",
   "id": "2cf3f488-cf40-43c4-8479-2327b5987ea7",
   "metadata": {},
   "source": [
    "Typically, CNN models expect to see three color channels, but we do not have that distinction for our data. Hence, we will just expand the dimensions of our data, essentially creating three layers of the data we already have. The CNN will then accept our input data as a correct form of input. "
   ]
  },
  {
   "cell_type": "code",
   "execution_count": 7,
   "id": "lasting-custody",
   "metadata": {},
   "outputs": [
    {
     "name": "stdout",
     "output_type": "stream",
     "text": [
      "[[-1. -1. -1. ... -1. -1. -1.]\n",
      " [-1. -1. -1. ... -1. -1. -1.]\n",
      " [-1. -1. -1. ... -1. -1. -1.]\n",
      " ...\n",
      " [-1. -1. -1. ... -1. -1. -1.]\n",
      " [-1. -1. -1. ... -1. -1. -1.]\n",
      " [-1. -1. -1. ... -1. -1. -1.]]\n",
      "------------------\n",
      "[[[-1.]\n",
      "  [-1.]\n",
      "  [-1.]\n",
      "  ...\n",
      "  [-1.]\n",
      "  [-1.]\n",
      "  [-1.]]\n",
      "\n",
      " [[-1.]\n",
      "  [-1.]\n",
      "  [-1.]\n",
      "  ...\n",
      "  [-1.]\n",
      "  [-1.]\n",
      "  [-1.]]\n",
      "\n",
      " [[-1.]\n",
      "  [-1.]\n",
      "  [-1.]\n",
      "  ...\n",
      "  [-1.]\n",
      "  [-1.]\n",
      "  [-1.]]\n",
      "\n",
      " ...\n",
      "\n",
      " [[-1.]\n",
      "  [-1.]\n",
      "  [-1.]\n",
      "  ...\n",
      "  [-1.]\n",
      "  [-1.]\n",
      "  [-1.]]\n",
      "\n",
      " [[-1.]\n",
      "  [-1.]\n",
      "  [-1.]\n",
      "  ...\n",
      "  [-1.]\n",
      "  [-1.]\n",
      "  [-1.]]\n",
      "\n",
      " [[-1.]\n",
      "  [-1.]\n",
      "  [-1.]\n",
      "  ...\n",
      "  [-1.]\n",
      "  [-1.]\n",
      "  [-1.]]]\n",
      "------------------\n",
      "[[[-1. -1. -1.]\n",
      "  [-1. -1. -1.]\n",
      "  [-1. -1. -1.]\n",
      "  ...\n",
      "  [-1. -1. -1.]\n",
      "  [-1. -1. -1.]\n",
      "  [-1. -1. -1.]]\n",
      "\n",
      " [[-1. -1. -1.]\n",
      "  [-1. -1. -1.]\n",
      "  [-1. -1. -1.]\n",
      "  ...\n",
      "  [-1. -1. -1.]\n",
      "  [-1. -1. -1.]\n",
      "  [-1. -1. -1.]]\n",
      "\n",
      " [[-1. -1. -1.]\n",
      "  [-1. -1. -1.]\n",
      "  [-1. -1. -1.]\n",
      "  ...\n",
      "  [-1. -1. -1.]\n",
      "  [-1. -1. -1.]\n",
      "  [-1. -1. -1.]]\n",
      "\n",
      " ...\n",
      "\n",
      " [[-1. -1. -1.]\n",
      "  [-1. -1. -1.]\n",
      "  [-1. -1. -1.]\n",
      "  ...\n",
      "  [-1. -1. -1.]\n",
      "  [-1. -1. -1.]\n",
      "  [-1. -1. -1.]]\n",
      "\n",
      " [[-1. -1. -1.]\n",
      "  [-1. -1. -1.]\n",
      "  [-1. -1. -1.]\n",
      "  ...\n",
      "  [-1. -1. -1.]\n",
      "  [-1. -1. -1.]\n",
      "  [-1. -1. -1.]]\n",
      "\n",
      " [[-1. -1. -1.]\n",
      "  [-1. -1. -1.]\n",
      "  [-1. -1. -1.]\n",
      "  ...\n",
      "  [-1. -1. -1.]\n",
      "  [-1. -1. -1.]\n",
      "  [-1. -1. -1.]]]\n",
      "------------------\n"
     ]
    }
   ],
   "source": [
    "print(train_input[0])\n",
    "print('------------------')\n",
    "train_input = np.expand_dims(train_input, axis=3)\n",
    "print(train_input[0])\n",
    "print('------------------')\n",
    "train_input = np.repeat(train_input, 3, axis=3)\n",
    "print(train_input[0])\n",
    "print('------------------')\n",
    "\n",
    "val_input = np.expand_dims(val_input, axis=3)\n",
    "val_input = np.repeat(val_input, 3, axis=3)"
   ]
  },
  {
   "cell_type": "markdown",
   "id": "equipped-cathedral",
   "metadata": {},
   "source": [
    "### Plotting the distributions of the Labels of Test Set and Training Set"
   ]
  },
  {
   "cell_type": "markdown",
   "id": "dceb4fbf-a1b0-4f9c-96d9-a2d0237b1af1",
   "metadata": {},
   "source": [
    "It's good to know how many input images you will put into the model:"
   ]
  },
  {
   "cell_type": "code",
   "execution_count": 8,
   "id": "082927cd-377a-49a7-b61f-1a63e50f5c98",
   "metadata": {},
   "outputs": [
    {
     "name": "stdout",
     "output_type": "stream",
     "text": [
      "112\n"
     ]
    }
   ],
   "source": [
    "len_train_input = len(train_input[0][0])\n",
    "print(len_train_input)"
   ]
  },
  {
   "cell_type": "markdown",
   "id": "cfcc70bf-5989-433a-a1af-545671409aa1",
   "metadata": {},
   "source": [
    "Here we plot the distribution of the training input data:"
   ]
  },
  {
   "cell_type": "code",
   "execution_count": 9,
   "id": "arranged-cloud",
   "metadata": {
    "tags": []
   },
   "outputs": [
    {
     "data": {
      "text/plain": [
       "(array([2.06593884e+08, 0.00000000e+00, 0.00000000e+00, 0.00000000e+00,\n",
       "        0.00000000e+00, 0.00000000e+00, 0.00000000e+00, 0.00000000e+00,\n",
       "        0.00000000e+00, 0.00000000e+00, 0.00000000e+00, 0.00000000e+00,\n",
       "        0.00000000e+00, 0.00000000e+00, 0.00000000e+00, 0.00000000e+00,\n",
       "        0.00000000e+00, 0.00000000e+00, 0.00000000e+00, 0.00000000e+00,\n",
       "        0.00000000e+00, 0.00000000e+00, 0.00000000e+00, 0.00000000e+00,\n",
       "        0.00000000e+00, 0.00000000e+00, 0.00000000e+00, 0.00000000e+00,\n",
       "        0.00000000e+00, 1.50900000e+03, 1.20900000e+04, 1.88310000e+04,\n",
       "        2.43480000e+04, 3.04200000e+04, 3.41820000e+04, 3.82410000e+04,\n",
       "        4.05030000e+04, 4.31970000e+04, 4.54260000e+04, 4.76910000e+04,\n",
       "        4.91970000e+04, 5.13480000e+04, 5.31150000e+04, 5.56890000e+04,\n",
       "        5.88030000e+04, 6.26490000e+04, 6.55890000e+04, 6.94830000e+04,\n",
       "        7.25100000e+04, 7.67280000e+04, 7.79430000e+04, 7.81230000e+04,\n",
       "        7.68810000e+04, 7.35510000e+04, 6.96300000e+04, 6.50130000e+04,\n",
       "        6.18870000e+04, 6.01440000e+04, 5.74560000e+04, 5.71080000e+04,\n",
       "        5.69880000e+04, 5.82060000e+04, 5.91000000e+04, 6.05220000e+04,\n",
       "        5.99460000e+04, 5.64960000e+04, 5.22990000e+04, 5.06220000e+04,\n",
       "        5.29080000e+04, 5.42250000e+04, 1.18497000e+05, 1.45410000e+04,\n",
       "        1.85820000e+04, 1.51200000e+04, 1.43010000e+04, 1.61370000e+04,\n",
       "        1.36050000e+04, 1.41030000e+04, 1.25490000e+04, 9.63600000e+03,\n",
       "        6.91800000e+03, 5.45100000e+03, 4.63800000e+03, 3.99300000e+03,\n",
       "        3.63300000e+03, 3.39000000e+03, 2.89500000e+03, 2.89800000e+03,\n",
       "        3.14100000e+03, 2.70000000e+03, 2.65200000e+03, 1.82700000e+03,\n",
       "        1.49700000e+03, 1.14900000e+03, 9.96000000e+02, 7.53000000e+02,\n",
       "        6.72000000e+02, 6.66000000e+02, 6.69000000e+02, 1.30200000e+03]),\n",
       " array([-1.  , -0.98, -0.96, -0.94, -0.92, -0.9 , -0.88, -0.86, -0.84,\n",
       "        -0.82, -0.8 , -0.78, -0.76, -0.74, -0.72, -0.7 , -0.68, -0.66,\n",
       "        -0.64, -0.62, -0.6 , -0.58, -0.56, -0.54, -0.52, -0.5 , -0.48,\n",
       "        -0.46, -0.44, -0.42, -0.4 , -0.38, -0.36, -0.34, -0.32, -0.3 ,\n",
       "        -0.28, -0.26, -0.24, -0.22, -0.2 , -0.18, -0.16, -0.14, -0.12,\n",
       "        -0.1 , -0.08, -0.06, -0.04, -0.02,  0.  ,  0.02,  0.04,  0.06,\n",
       "         0.08,  0.1 ,  0.12,  0.14,  0.16,  0.18,  0.2 ,  0.22,  0.24,\n",
       "         0.26,  0.28,  0.3 ,  0.32,  0.34,  0.36,  0.38,  0.4 ,  0.42,\n",
       "         0.44,  0.46,  0.48,  0.5 ,  0.52,  0.54,  0.56,  0.58,  0.6 ,\n",
       "         0.62,  0.64,  0.66,  0.68,  0.7 ,  0.72,  0.74,  0.76,  0.78,\n",
       "         0.8 ,  0.82,  0.84,  0.86,  0.88,  0.9 ,  0.92,  0.94,  0.96,\n",
       "         0.98,  1.  ]),\n",
       " <a list of 100 Patch objects>)"
      ]
     },
     "execution_count": 9,
     "metadata": {},
     "output_type": "execute_result"
    },
    {
     "data": {
      "image/png": "[encoded data removed]",
      "text/plain": [
       "<Figure size 432x288 with 1 Axes>"
      ]
     },
     "metadata": {
      "needs_background": "light"
     },
     "output_type": "display_data"
    }
   ],
   "source": [
    "plt.hist(train_input.reshape(len(train_input)*112*112*3),bins=100, log=True)"
   ]
  },
  {
   "cell_type": "markdown",
   "id": "627eb4d4-4da5-45b6-acb8-030c8c008437",
   "metadata": {},
   "source": [
    "Here we plot the distributions of the targets for both the validation and training sets: \n",
    "We should see a pretty even distibution of the targets over the particles. "
   ]
  },
  {
   "cell_type": "code",
   "execution_count": 10,
   "id": "changing-baseball",
   "metadata": {},
   "outputs": [
    {
     "data": {
      "text/plain": [
       "(array([276.,   0., 282.,   0.,   0., 303.,   0., 274.,   0., 257.]),\n",
       " array([0.0, 0.4, 0.8, 1.2000000000000002, 1.6, 2.0, 2.4000000000000004,\n",
       "        2.8000000000000003, 3.2, 3.6, 4.0], dtype=object),\n",
       " <a list of 10 Patch objects>)"
      ]
     },
     "execution_count": 10,
     "metadata": {},
     "output_type": "execute_result"
    },
    {
     "data": {
      "image/png": "[encoded data removed]",
      "text/plain": [
       "<Figure size 432x288 with 1 Axes>"
      ]
     },
     "metadata": {
      "needs_background": "light"
     },
     "output_type": "display_data"
    }
   ],
   "source": [
    "plt.hist(val_target)"
   ]
  },
  {
   "cell_type": "code",
   "execution_count": 11,
   "id": "raising-philip",
   "metadata": {},
   "outputs": [
    {
     "data": {
      "text/plain": [
       "(array([1141.,    0., 1104.,    0.,    0., 1140.,    0., 1106.,    0.,\n",
       "        1065.]),\n",
       " array([0.0, 0.4, 0.8, 1.2000000000000002, 1.6, 2.0, 2.4000000000000004,\n",
       "        2.8000000000000003, 3.2, 3.6, 4.0], dtype=object),\n",
       " <a list of 10 Patch objects>)"
      ]
     },
     "execution_count": 11,
     "metadata": {},
     "output_type": "execute_result"
    },
    {
     "data": {
      "image/png": "[encoded data removed]",
      "text/plain": [
       "<Figure size 432x288 with 1 Axes>"
      ]
     },
     "metadata": {
      "needs_background": "light"
     },
     "output_type": "display_data"
    }
   ],
   "source": [
    "plt.hist(train_target)"
   ]
  },
  {
   "cell_type": "markdown",
   "id": "measured-relation",
   "metadata": {},
   "source": [
    "### One Hot Encoding"
   ]
  },
  {
   "cell_type": "markdown",
   "id": "ecb38c71-fec1-4acf-94ae-6807928cecf5",
   "metadata": {},
   "source": [
    "It is important to one hot encode your training targets because this is the only way that a multiclass model can appropriately classify inputs. We use the sklearn one hot encoder for this:"
   ]
  },
  {
   "cell_type": "code",
   "execution_count": 12,
   "id": "committed-twist",
   "metadata": {},
   "outputs": [
    {
     "name": "stdout",
     "output_type": "stream",
     "text": [
      "(5556, 1)\n",
      "[[0. 0. 1. 0. 0.]\n",
      " [0. 0. 1. 0. 0.]\n",
      " [0. 0. 1. 0. 0.]\n",
      " ...\n",
      " [0. 0. 0. 0. 1.]\n",
      " [0. 1. 0. 0. 0.]\n",
      " [0. 0. 0. 1. 0.]]\n"
     ]
    }
   ],
   "source": [
    "enc = OneHotEncoder()\n",
    "\n",
    "one_hot_encoding_train_target = train_target.reshape(len(train_input),1)\n",
    "print(one_hot_encoding_train_target.shape)\n",
    "X = [[0], [1], [2], [3], [4]]\n",
    "# X = [['Proton', 0], ['Deuteron', 1], ['Triton', 2], ['He3', 3], ['He4', 4]]\n",
    "\n",
    "enc.fit(X)\n",
    "enc.categories_\n",
    "one_hot_encoding_train_target = enc.transform(one_hot_encoding_train_target).toarray()\n",
    "print(one_hot_encoding_train_target)"
   ]
  },
  {
   "cell_type": "markdown",
   "id": "bronze-serum",
   "metadata": {},
   "source": [
    "Verifying the one hot encoder:"
   ]
  },
  {
   "cell_type": "code",
   "execution_count": 13,
   "id": "meaning-brass",
   "metadata": {},
   "outputs": [
    {
     "name": "stdout",
     "output_type": "stream",
     "text": [
      "If print is 0, then the one hot encoding is correct:\n",
      "0\n"
     ]
    }
   ],
   "source": [
    "zero = np.array([1.0,0.0,0.0,0.0,0.0])\n",
    "one = np.array([0.0,1.0,0.0,0.0,0.0])\n",
    "two = np.array([0.0,0.0,1.0,0.0,0.0])\n",
    "three = np.array([0.0,0.0,0.0,1.0,0.0])\n",
    "four = np.array([0.0,0.0,0.0,0.0,1.0])\n",
    "my_dict = {0.0:zero, 1.0:one, 2.0: two, 3.0:three, 4.0: four}\n",
    "index = 0\n",
    "count = 0\n",
    "for i in one_hot_encoding_train_target:\n",
    "    if (i[0] != my_dict[train_target[index]][0] or \n",
    "                       i[1] != my_dict[train_target[index]][1] or\n",
    "                       i[2] != my_dict[train_target[index]][2] or\n",
    "                       i[3] != my_dict[train_target[index]][3] or\n",
    "                       i[4] != my_dict[train_target[index]][4]):\n",
    "        count += 1\n",
    "    index += 1\n",
    "\n",
    "print(\"If print is 0, then the one hot encoding is correct:\")\n",
    "print(count)\n"
   ]
  },
  {
   "cell_type": "markdown",
   "id": "1a75db64-462d-44e1-a1e0-85ab1ba71a74",
   "metadata": {},
   "source": [
    "Make sure there are actually five targets in our training targets set. "
   ]
  },
  {
   "cell_type": "code",
   "execution_count": 24,
   "id": "viral-attack",
   "metadata": {},
   "outputs": [
    {
     "name": "stdout",
     "output_type": "stream",
     "text": [
      "5\n",
      "[[0. 0. 1. 0. 0.]\n",
      " [0. 0. 1. 0. 0.]\n",
      " [0. 0. 1. 0. 0.]\n",
      " ...\n",
      " [0. 0. 0. 0. 1.]\n",
      " [0. 1. 0. 0. 0.]\n",
      " [0. 0. 0. 1. 0.]]\n"
     ]
    }
   ],
   "source": [
    "print(len(np.unique(train_target))) #this should be 5\n",
    "print(one_hot_encoding_train_target)"
   ]
  },
  {
   "cell_type": "code",
   "execution_count": 20,
   "id": "2e61f883-3d25-4bf8-af0a-a360658ede98",
   "metadata": {},
   "outputs": [
    {
     "name": "stdout",
     "output_type": "stream",
     "text": [
      "[[[-1. -1. -1.]\n",
      "  [-1. -1. -1.]\n",
      "  [-1. -1. -1.]\n",
      "  ...\n",
      "  [-1. -1. -1.]\n",
      "  [-1. -1. -1.]\n",
      "  [-1. -1. -1.]]\n",
      "\n",
      " [[-1. -1. -1.]\n",
      "  [-1. -1. -1.]\n",
      "  [-1. -1. -1.]\n",
      "  ...\n",
      "  [-1. -1. -1.]\n",
      "  [-1. -1. -1.]\n",
      "  [-1. -1. -1.]]\n",
      "\n",
      " [[-1. -1. -1.]\n",
      "  [-1. -1. -1.]\n",
      "  [-1. -1. -1.]\n",
      "  ...\n",
      "  [-1. -1. -1.]\n",
      "  [-1. -1. -1.]\n",
      "  [-1. -1. -1.]]\n",
      "\n",
      " ...\n",
      "\n",
      " [[-1. -1. -1.]\n",
      "  [-1. -1. -1.]\n",
      "  [-1. -1. -1.]\n",
      "  ...\n",
      "  [-1. -1. -1.]\n",
      "  [-1. -1. -1.]\n",
      "  [-1. -1. -1.]]\n",
      "\n",
      " [[-1. -1. -1.]\n",
      "  [-1. -1. -1.]\n",
      "  [-1. -1. -1.]\n",
      "  ...\n",
      "  [-1. -1. -1.]\n",
      "  [-1. -1. -1.]\n",
      "  [-1. -1. -1.]]\n",
      "\n",
      " [[-1. -1. -1.]\n",
      "  [-1. -1. -1.]\n",
      "  [-1. -1. -1.]\n",
      "  ...\n",
      "  [-1. -1. -1.]\n",
      "  [-1. -1. -1.]\n",
      "  [-1. -1. -1.]]]\n"
     ]
    }
   ],
   "source": [
    "print(train_input[0])"
   ]
  },
  {
   "cell_type": "markdown",
   "id": "professional-trinidad",
   "metadata": {},
   "source": [
    "### Making the Neural Network"
   ]
  },
  {
   "cell_type": "markdown",
   "id": "65fdeffe-9ce9-4ed2-926f-ebacc45dcf9c",
   "metadata": {},
   "source": [
    "Note that we are doing transfer learning. So we take a CNN that has already been trained then append a fully connected neural network on top of it that will learn to classify our images in particular after having been sent through the pre-trained CNN. "
   ]
  },
  {
   "cell_type": "code",
   "execution_count": 21,
   "id": "fatty-match",
   "metadata": {},
   "outputs": [
    {
     "name": "stdout",
     "output_type": "stream",
     "text": [
      "5\n"
     ]
    }
   ],
   "source": [
    "# Determine the number of class labels\n",
    "num_classes = len(np.unique(train_target)) #should be 5\n",
    "print(len(np.unique(train_target)))\n",
    "input_shape = (112,112,3)\n",
    "\n",
    "def build_pretrained_vgg_model():\n",
    "    \"\"\"Constructs a CNN with a VGG16's convolutional base and two fully-connected hidden layers on top.\n",
    "    The convolutional base is frozen (the weights can't be updated) and has weights from training on\n",
    "    the ImageNet dataset.\n",
    "    \n",
    "    Returns:\n",
    "        The model.\n",
    "    \"\"\"\n",
    "    # This loads the VGG16 model from TensorFlow with ImageNet weights\n",
    "    vgg_model = tf.keras.applications.VGG16(include_top=False, weights='imagenet', input_shape=input_shape)\n",
    "    \n",
    "    # First we flatten out the features from the VGG16 model\n",
    "    net = tf.keras.layers.Flatten()(vgg_model.output)\n",
    "\n",
    "    # We create a new fully-connected layer that takes the flattened features as its input\n",
    "    net = tf.keras.layers.Dense(512, activation=tf.nn.relu)(net)\n",
    "    # And we add one more hidden layer\n",
    "    net = tf.keras.layers.Dense(512, activation=tf.nn.relu)(net)\n",
    "\n",
    "    # Then we add a final layer which is connected to the previous layer and\n",
    "    # groups our images into one of the three classes\n",
    "    output = tf.keras.layers.Dense(num_classes, activation=tf.nn.softmax)(net)\n",
    "\n",
    "    # Finally, we create a new model whose input is that of the VGG16 model and whose output\n",
    "    # is the final new layer we just created\n",
    "    model = tf.keras.Model(inputs=vgg_model.input, outputs=output)\n",
    "    \n",
    "    # We loop through all layers except the last four and specify that we do not want \n",
    "    # their weights to be updated during training. Again, the weights of the convolutional\n",
    "    # layers have already been trained for general-purpose feature extraction, and we only\n",
    "    # want to update the fully-connected layers that we just added.\n",
    "    for layer in model.layers[:-1]:\n",
    "        layer.trainable = False\n",
    "    print(len(model.layers))\n",
    "    return model"
   ]
  },
  {
   "cell_type": "markdown",
   "id": "1935bcb0-aa28-40ae-8785-773596fd61bf",
   "metadata": {},
   "source": [
    "Here we call on the build model method and set our learning rate and loss function and learning metrics. "
   ]
  },
  {
   "cell_type": "code",
   "execution_count": 76,
   "id": "provincial-lloyd",
   "metadata": {},
   "outputs": [
    {
     "name": "stdout",
     "output_type": "stream",
     "text": [
      "23\n"
     ]
    }
   ],
   "source": [
    "model = build_pretrained_vgg_model()\n",
    "\n",
    "model.compile(tf.keras.optimizers.Adam(lr=0.0001), \n",
    "              loss=tf.keras.losses.CategoricalCrossentropy(),\n",
    "              metrics=['accuracy'])"
   ]
  },
  {
   "cell_type": "code",
   "execution_count": 17,
   "id": "swedish-government",
   "metadata": {
    "tags": []
   },
   "outputs": [
    {
     "name": "stdout",
     "output_type": "stream",
     "text": [
      "Model: \"model\"\n",
      "_________________________________________________________________\n",
      "Layer (type)                 Output Shape              Param #   \n",
      "=================================================================\n",
      "input_1 (InputLayer)         [(None, 112, 112, 3)]     0         \n",
      "_________________________________________________________________\n",
      "block1_conv1 (Conv2D)        (None, 112, 112, 64)      1792      \n",
      "_________________________________________________________________\n",
      "block1_conv2 (Conv2D)        (None, 112, 112, 64)      36928     \n",
      "_________________________________________________________________\n",
      "block1_pool (MaxPooling2D)   (None, 56, 56, 64)        0         \n",
      "_________________________________________________________________\n",
      "block2_conv1 (Conv2D)        (None, 56, 56, 128)       73856     \n",
      "_________________________________________________________________\n",
      "block2_conv2 (Conv2D)        (None, 56, 56, 128)       147584    \n",
      "_________________________________________________________________\n",
      "block2_pool (MaxPooling2D)   (None, 28, 28, 128)       0         \n",
      "_________________________________________________________________\n",
      "block3_conv1 (Conv2D)        (None, 28, 28, 256)       295168    \n",
      "_________________________________________________________________\n",
      "block3_conv2 (Conv2D)        (None, 28, 28, 256)       590080    \n",
      "_________________________________________________________________\n",
      "block3_conv3 (Conv2D)        (None, 28, 28, 256)       590080    \n",
      "_________________________________________________________________\n",
      "block3_pool (MaxPooling2D)   (None, 14, 14, 256)       0         \n",
      "_________________________________________________________________\n",
      "block4_conv1 (Conv2D)        (None, 14, 14, 512)       1180160   \n",
      "_________________________________________________________________\n",
      "block4_conv2 (Conv2D)        (None, 14, 14, 512)       2359808   \n",
      "_________________________________________________________________\n",
      "block4_conv3 (Conv2D)        (None, 14, 14, 512)       2359808   \n",
      "_________________________________________________________________\n",
      "block4_pool (MaxPooling2D)   (None, 7, 7, 512)         0         \n",
      "_________________________________________________________________\n",
      "block5_conv1 (Conv2D)        (None, 7, 7, 512)         2359808   \n",
      "_________________________________________________________________\n",
      "block5_conv2 (Conv2D)        (None, 7, 7, 512)         2359808   \n",
      "_________________________________________________________________\n",
      "block5_conv3 (Conv2D)        (None, 7, 7, 512)         2359808   \n",
      "_________________________________________________________________\n",
      "block5_pool (MaxPooling2D)   (None, 3, 3, 512)         0         \n",
      "_________________________________________________________________\n",
      "flatten (Flatten)            (None, 4608)              0         \n",
      "_________________________________________________________________\n",
      "dense (Dense)                (None, 512)               2359808   \n",
      "_________________________________________________________________\n",
      "dense_1 (Dense)              (None, 512)               262656    \n",
      "_________________________________________________________________\n",
      "dense_2 (Dense)              (None, 5)                 2565      \n",
      "=================================================================\n",
      "Total params: 17,339,717\n",
      "Trainable params: 2,625,029\n",
      "Non-trainable params: 14,714,688\n",
      "_________________________________________________________________\n"
     ]
    }
   ],
   "source": [
    "model.summary()"
   ]
  },
  {
   "cell_type": "markdown",
   "id": "prospective-montreal",
   "metadata": {},
   "source": [
    "### Prepare the Callbacks:"
   ]
  },
  {
   "cell_type": "code",
   "execution_count": 89,
   "id": "indirect-gossip",
   "metadata": {},
   "outputs": [],
   "source": [
    "# This is the directory where model weights will be saved. Feel free to change it.\n",
    "CHECKPOINT_DIR = './log-model-checkpoints-402-pretrained-1'\n",
    "\n",
    "if not os.path.exists(CHECKPOINT_DIR):\n",
    "    os.makedirs(CHECKPOINT_DIR)\n",
    "\n",
    "# The checkpoints will be saved with the corresponding epoch number in their filename\n",
    "ckpt_path = os.path.join(CHECKPOINT_DIR, 'weights.epoch.{epoch:02d}')\n",
    "\n",
    "# Setup checkpoint callback. We only save the weights, not the entire model\n",
    "ckpt_callback = tf.keras.callbacks.ModelCheckpoint(ckpt_path, save_weights_only=True)"
   ]
  },
  {
   "cell_type": "code",
   "execution_count": 49,
   "id": "visible-progressive",
   "metadata": {},
   "outputs": [],
   "source": [
    "#here's a call back that reduces the learning rate when the model's\n",
    "#accuracy starts to plateau. \n",
    "reduce_lr = tf.keras.callbacks.ReduceLROnPlateau(\"val_accuracy\", \n",
    "                                                 factor=0.5, patience=3, min_lr = 0.00000001, mode=\"min\") "
   ]
  },
  {
   "cell_type": "markdown",
   "id": "1a47632f-a45b-402e-8b6e-697923d75164",
   "metadata": {},
   "source": [
    "Put all callbacks into one list for easy entry into the model.fit function:"
   ]
  },
  {
   "cell_type": "code",
   "execution_count": 50,
   "id": "right-audio",
   "metadata": {},
   "outputs": [],
   "source": [
    "my_callbacks = [\n",
    "    tf.keras.callbacks.EarlyStopping(monitor=\"val_accuracy\", patience=5),\n",
    "    ckpt_callback,\n",
    "    reduce_lr\n",
    "]"
   ]
  },
  {
   "cell_type": "markdown",
   "id": "f454c02d-1d71-47f6-bf20-df95880b6375",
   "metadata": {},
   "source": [
    "We will also want to save an image of our learning curve from when the model gets trained:\n",
    "Make sure to name your files appropriately keeping in mind whether you power transformed or log scaled. "
   ]
  },
  {
   "cell_type": "code",
   "execution_count": 21,
   "id": "organized-psychology",
   "metadata": {},
   "outputs": [],
   "source": [
    "LEARNING_CURVE_DIR = \"./LearningCurves\"\n",
    "\n",
    "if not os.path.exists(LEARNING_CURVE_DIR):\n",
    "    os.makedirs(LEARNING_CURVE_DIR)\n",
    "\n",
    "#want to save figure with the data and time.\n",
    "#change to log_scale or power_transform accordingly:\n",
    "today_time = str(datetime.today())\n",
    "file_name = \"log_scale_LC{}{}\".format(today_time,'.png')\n",
    "#file_name = \"power_transform_LC{}\".format(today_time,'.png')\n",
    "\n",
    "save_fig_path = os.path.join(LEARNING_CURVE_DIR, file_name)\n",
    "\n",
    "def plot_learning_curve(history):\n",
    "    plt.plot(history[\"loss\"], label=\"training loss\")\n",
    "    plt.plot(history[\"val_loss\"], label=\"validation loss\")\n",
    "    plt.xlabel(\"Epoch\")\n",
    "    plt.ylabel(\"Loss\")\n",
    "    plt.yscale('log')\n",
    "    plt.legend()\n",
    "    plt.savefig(save_fig_path, format='png')\n",
    "    plt.show()\n",
    "    \n"
   ]
  },
  {
   "cell_type": "markdown",
   "id": "small-cinema",
   "metadata": {},
   "source": [
    "### Fit the Model "
   ]
  },
  {
   "cell_type": "code",
   "execution_count": null,
   "id": "attached-circuit",
   "metadata": {
    "tags": []
   },
   "outputs": [
    {
     "name": "stderr",
     "output_type": "stream",
     "text": [
      "2022-03-23 22:04:55.524196: I tensorflow/compiler/mlir/mlir_graph_optimization_pass.cc:116] None of the MLIR optimization passes are enabled (registered 2)\n",
      "2022-03-23 22:04:55.536229: I tensorflow/core/platform/profile_utils/cpu_utils.cc:112] CPU Frequency: 2200000000 Hz\n"
     ]
    },
    {
     "name": "stdout",
     "output_type": "stream",
     "text": [
      "Epoch 1/100\n",
      "139/139 [==============================] - 725s 5s/step - loss: 1.5811 - accuracy: 0.2645 - val_loss: 1.4279 - val_accuracy: 0.3480\n",
      "Epoch 2/100\n",
      "  2/139 [..............................] - ETA: 9:29 - loss: 1.3793 - accuracy: 0.4297"
     ]
    }
   ],
   "source": [
    "results = model.fit(train_input,\n",
    "          one_hot_encoding_train_target,\n",
    "          batch_size=32,\n",
    "          epochs=100,\n",
    "          validation_split=0.2,\n",
    "          callbacks=my_callbacks);\n",
    "\n",
    "plot_learning_curve(results.history)"
   ]
  },
  {
   "cell_type": "markdown",
   "id": "sticky-section",
   "metadata": {},
   "source": [
    "### Making Predictions and Plotting Confusion Matrix"
   ]
  },
  {
   "cell_type": "markdown",
   "id": "81c440ca-9994-4dac-bca2-ef2ffa15ed98",
   "metadata": {},
   "source": [
    "Due to some of our callbacks, the model got saved after each epoch, so we can choose which epoch to test on. A good epoch to choose is the one where the validation loss started to seperate from the training loss. "
   ]
  },
  {
   "cell_type": "code",
   "execution_count": 90,
   "id": "engaged-committee",
   "metadata": {},
   "outputs": [],
   "source": [
    "EARLY_STOPPING_EPOCH = 12\n",
    "\n",
    "assert EARLY_STOPPING_EPOCH > 0, 'You need to set an early stopping point!'\n",
    "\n",
    "# Path the the checkpoint we want to load\n",
    "es_ckpt_path = os.path.join(CHECKPOINT_DIR, 'weights.epoch.{:02d}'.format(EARLY_STOPPING_EPOCH))\n",
    "model_path =  os.path.join(CHECKPOINT_DIR, 'saved_model.pb')\n",
    "# Load the weights from the desired checkpoint into the model\n",
    "model = tf.keras.models.load_model(CHECKPOINT_DIR)\n",
    "model.load_weights(es_ckpt_path);"
   ]
  },
  {
   "cell_type": "markdown",
   "id": "ae3278e8-b988-485a-83ef-6095b7b5ed2a",
   "metadata": {},
   "source": [
    "Here we make predictions on our validation set."
   ]
  },
  {
   "cell_type": "code",
   "execution_count": 91,
   "id": "verified-valentine",
   "metadata": {},
   "outputs": [],
   "source": [
    "predictions = model.predict(val_input)"
   ]
  },
  {
   "cell_type": "code",
   "execution_count": 92,
   "id": "27599f88-93d3-46d2-b286-6ec7090c2591",
   "metadata": {},
   "outputs": [
    {
     "name": "stdout",
     "output_type": "stream",
     "text": [
      "[0.19990589 0.21146925 0.26053947 0.15900064 0.1690847 ]\n"
     ]
    }
   ],
   "source": [
    "print(predictions[1])"
   ]
  },
  {
   "cell_type": "markdown",
   "id": "715483aa-66cf-4c4a-a87b-15adeaf8a974",
   "metadata": {},
   "source": [
    "predictions is currently a probability distribution, so we take the index from that distribution with the highest probability:"
   ]
  },
  {
   "cell_type": "code",
   "execution_count": 93,
   "id": "8a154106-9906-41a9-91cc-b01edcc8ffc5",
   "metadata": {},
   "outputs": [],
   "source": [
    "predictions = np.argmax(predictions, axis=1)"
   ]
  },
  {
   "cell_type": "code",
   "execution_count": 94,
   "id": "5be62fb2-c640-42bb-9f0b-f89c4db4120a",
   "metadata": {},
   "outputs": [
    {
     "name": "stdout",
     "output_type": "stream",
     "text": [
      "<class 'numpy.ndarray'>\n",
      "<class 'numpy.float64'>\n"
     ]
    }
   ],
   "source": [
    "print(type(val_target))\n",
    "print(type(val_target[1]))"
   ]
  },
  {
   "cell_type": "markdown",
   "id": "74ff26f1-129f-471c-ace8-c369423f02d0",
   "metadata": {},
   "source": [
    "Each element of val_target must be of type \"numpy.float64\", otherwise the confusion matrix code will break. "
   ]
  },
  {
   "cell_type": "code",
   "execution_count": 95,
   "id": "28a0fccc-aafd-46c3-9169-ed211c4099a0",
   "metadata": {},
   "outputs": [],
   "source": [
    "val_target = val_target.astype(np.float64)"
   ]
  },
  {
   "cell_type": "markdown",
   "id": "b37e9909-3694-4d74-9f4b-70a0274036a9",
   "metadata": {},
   "source": [
    "There are two main types of normalization for confusion matrices. Precision and recall. Choose whichever one you want. If you want Precision, choose normalize= 'pred', and for recall choose normalize= 'true'. "
   ]
  },
  {
   "cell_type": "code",
   "execution_count": 96,
   "id": "marine-recipient",
   "metadata": {},
   "outputs": [
    {
     "data": {
      "image/png": "[encoded data removed]",
      "text/plain": [
       "<Figure size 400x400 with 2 Axes>"
      ]
     },
     "metadata": {
      "needs_background": "light"
     },
     "output_type": "display_data"
    }
   ],
   "source": [
    "normalize='pred'\n",
    "\n",
    "confusion = confusion_matrix(val_target, predictions, normalize=normalize)\n",
    "\n",
    "plot_confusion_matrix_normalized(val_target, predictions, [\"Protons\", \"Deuterons\", \"Triton\",\"He3\", \"He4\"], confusion)"
   ]
  },
  {
   "cell_type": "code",
   "execution_count": 97,
   "id": "southern-alcohol",
   "metadata": {},
   "outputs": [
    {
     "data": {
      "image/png": "[encoded data removed]",
      "text/plain": [
       "<Figure size 400x400 with 2 Axes>"
      ]
     },
     "metadata": {
      "needs_background": "light"
     },
     "output_type": "display_data"
    }
   ],
   "source": [
    "plot_confusion_matrix_augmented(val_target, predictions, [\"Protons\", \"Deuterons\", \"Triton\",\"He3\", \"He4\"])"
   ]
  },
  {
   "cell_type": "code",
   "execution_count": null,
   "id": "completed-assault",
   "metadata": {},
   "outputs": [],
   "source": []
  }
 ],
 "metadata": {
  "kernelspec": {
   "display_name": "Python 3 (ipykernel)",
   "language": "python",
   "name": "python3"
  },
  "language_info": {
   "codemirror_mode": {
    "name": "ipython",
    "version": 3
   },
   "file_extension": ".py",
   "mimetype": "text/x-python",
   "name": "python",
   "nbconvert_exporter": "python",
   "pygments_lexer": "ipython3",
   "version": "3.8.12"
  }
 },
 "nbformat": 4,
 "nbformat_minor": 5
}
